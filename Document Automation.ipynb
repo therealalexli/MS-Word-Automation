{
 "cells": [
  {
   "cell_type": "code",
   "execution_count": null,
   "metadata": {},
   "outputs": [],
   "source": [
    "import pandas as pd   # we use pandas for reading in an excel datasource\n",
    "\n",
    "from unidecode import unidecode  #  we use unidecode to handle special characters in unicode\n",
    "\n",
    "from pandas import ExcelWriter\n",
    "from pandas import ExcelFile\n",
    "\n",
    "from __future__ import print_function\n",
    "from mailmerge import MailMerge  # we use MailMerge to populate the fields \n",
    "from datetime import date  \n",
    "\n",
    "infosheet = pd.read_excel('df.xlsx', sheet_name='DataSource', header=0)  ## read the data source into a pandas dataframe\n",
    "\n",
    "string_values  = infosheet['Values'].astype(str)  ## convert the values from unicode to string for output in MailMerge\n",
    "\n",
    "nouni = unidecode(infosheet.Labels[1])  ## hardcoded exception for one of the labels\n",
    "nouni2 = unidecode(infosheet.Labels[4]) ## hardcoded exception for one of the labels\n",
    "\n",
    "infosheet.Labels[1] = nouni  # replace the Labels value with our hardcoded non-unicode variable\n",
    "infosheet.Labels[4] = nouni2 # replace the Labels value with our hardcoded non-unicode variable\n",
    "\n",
    "string_labels = infosheet['Labels'].astype(str) # now that we do not have unicode issues we can convert from unicode to string like we did with Values"
   ]
  },
  {
   "cell_type": "code",
   "execution_count": null,
   "metadata": {},
   "outputs": [],
   "source": [
    "\"\"\"Below we are creating a dictionary and manipulating it so that there are no spaces and punctuation. We\n",
    "do this to avoid problems with the MailMerge module and MS Word Merge Fields\"\"\"\n",
    "\n",
    "\n",
    "dd = dict( zip( string_labels, string_values)) \n",
    "\n",
    "dictionary = {k.replace(\" \",\"\"): v for k,v in dd.items()}   \n",
    "\n",
    "dictionary = {k.replace(\":\",\"\"): v for k,v in dictionary.items()}  \n",
    "\n",
    "dictionary = {k.replace(\"#\",\"\"): v for k,v in dictionary.items()} \n",
    "\n",
    "dictionary = {k.replace('(',\"\"): v for k,v in dictionary.items()} \n",
    "\n",
    "dictionary = {k.replace(')',\"\"): v for k,v in dictionary.items()} \n",
    "\n",
    "dictionary ={k.replace('.',''): v for k,v in dictionary.items()} \n",
    "\n",
    "dictionary ={k.replace(',',''): v for k,v in dictionary.items()} \n"
   ]
  },
  {
   "cell_type": "code",
   "execution_count": null,
   "metadata": {},
   "outputs": [],
   "source": [
    "\"\"\"Below we template the documents into variables\"\"\"\n",
    "\n",
    "LoanAgreementTemplate = \"Loan Agreement Template.docx\"  \n",
    "PromissoryNoteTemplate = \"Promissory Note Template.docx\"\n",
    "DeedofTrustTemplate = \"Deed of Trust Template.docx\"\n",
    "PrivacyPolicyTemplate = \"Privacy Policy Template.docx\"\n",
    "FederalEqualCreditOpportunityActNoticeTemplate = \"Federal Equal Credit Opportunity Act Notice Template.docx\"\n",
    "EnvironmentalIndemnityAgreementTemplate = \"Environmental Indemnity Agreement Template.docx\"\n",
    "LoanAgreementMultipleDrawsTemplate = \"Loan Agreement Multiple Draws Template.docx\"\n",
    "LoanAgreementConstructionTemplate = \"Loan Agreement Construction Template.docx\"\n",
    "HazardInsuranceDisclosureTemplate = \"Hazard Insurance Disclosure Template.docx\"\n",
    "ArbitrationAgreementTemplate = \"Arbitration Agreement Template.docx\"\n",
    "CFLNoticeTemplate = 'CFL Notice Template.docx'\n",
    "\n",
    "\"\"\"Now we use the variables and create MailMerge objects\"\"\"\n",
    "\n",
    "LoanAgreementDocument = MailMerge(LoanAgreementTemplate) \n",
    "PromissoryNoteDocument = MailMerge(PromissoryNoteTemplate)\n",
    "DeedofTrustDocument = MailMerge(DeedofTrustTemplate)\n",
    "PrivacyPolicyDocument = MailMerge(PrivacyPolicyTemplate)\n",
    "FederalEqualCreditOpportunityActNoticeDocument = MailMerge(FederalEqualCreditOpportunityActNoticeTemplate)\n",
    "EnvironmentalIndemnityAgreementDocument = MailMerge(EnvironmentalIndemnityAgreementTemplate)\n",
    "LoanAgreementMultipleDrawsDocument = MailMerge(LoanAgreementMultipleDrawsTemplate)\n",
    "LoanAgreementConstructionDocument = MailMerge(LoanAgreementConstructionTemplate)\n",
    "HazardInsuranceDisclosureDocument = MailMerge(HazardInsuranceDisclosureTemplate)\n",
    "ArbitrationAgreementDocument = MailMerge(ArbitrationAgreementTemplate)\n",
    "CFLNoticeDocument = MailMerge(CFLNoticeTemplate)"
   ]
  },
  {
   "cell_type": "code",
   "execution_count": null,
   "metadata": {},
   "outputs": [],
   "source": [
    "propertyaddress = dictionary['PropertyAddress']   ## Since the application of this program is real estate, we store the property address as a variable for naming"
   ]
  },
  {
   "cell_type": "code",
   "execution_count": null,
   "metadata": {},
   "outputs": [],
   "source": [
    "\"\"\"Populate the MailMerge object with the dictionary. We use the explode operator so the dictionary can automatically match and populate the Merge Fields.\n",
    "This will only work if the merge fields EXACTLY MATCH the dictionary keys.\"\"\"\n",
    "\n",
    "LoanAgreementDocument.merge(**dictionary)\n",
    "PromissoryNoteDocument.merge(**dictionary)\n",
    "DeedofTrustDocument.merge(**dictionary)\n",
    "PrivacyPolicyDocument.merge(**dictionary)\n",
    "FederalEqualCreditOpportunityActNoticeDocument.merge(**dictionary)\n",
    "EnvironmentalIndemnityAgreementDocument.merge(**dictionary)\n",
    "LoanAgreementMultipleDrawsDocument.merge(**dictionary)\n",
    "LoanAgreementConstructionDocument.merge(**dictionary)\n",
    "HazardInsuranceDisclosureDocument.merge(**dictionary)\n",
    "ArbitrationAgreementDocument.merge(**dictionary)\n",
    "CFLNoticeDocument.merge(**dictionary)\n",
    "##ConditionalLoanApprovalDocument.merge(**dictionary)\n",
    "\n",
    "\n",
    "\"\"\"Finally, we create new documents using the write function. They should appear in the same folder as your program.\"\"\"\n",
    "\n",
    "PromissoryNoteDocument.write(propertyaddress +' Promissory Note.docx')\n",
    "LoanAgreementDocument.write(propertyaddress +' Loan Agreement LEGAL.docx') \n",
    "DeedofTrustDocument.write(propertyaddress +' Deed of Trust.docx')\n",
    "PrivacyPolicyDocument.write(propertyaddress +' Privacy Policy.docx')\n",
    "FederalEqualCreditOpportunityActNoticeDocument.write(propertyaddress +' Federal Equal Credit Opportunity Act Notice .docx')\n",
    "EnvironmentalIndemnityAgreementDocument.write(propertyaddress +' Environmental Indemnity Agreement.docx')\n",
    "LoanAgreementMultipleDrawsDocument.write(propertyaddress +' Loan Agreement Multiple Draws.docx')\n",
    "LoanAgreementConstructionDocument.write(propertyaddress +' Loan Agreement Construction Document.docx')\n",
    "HazardInsuranceDisclosureDocument.write(propertyaddress +' Hazard Insurance Disclosure Document.docx')\n",
    "ArbitrationAgreementDocument.write(propertyaddress +' Arbitration Agreement.docx')\n",
    "CFLNoticeDocument.write(propertyaddress+' CFL Notice.docx')\n",
    "###ConditionalLoanApprovalDocument.write(propertyaddress+ ' Conditional Loan Approval.docx')"
   ]
  },
  {
   "cell_type": "code",
   "execution_count": null,
   "metadata": {},
   "outputs": [],
   "source": []
  }
 ],
 "metadata": {
  "kernelspec": {
   "display_name": "Python 2",
   "language": "python",
   "name": "python2"
  },
  "language_info": {
   "codemirror_mode": {
    "name": "ipython",
    "version": 2
   },
   "file_extension": ".py",
   "mimetype": "text/x-python",
   "name": "python",
   "nbconvert_exporter": "python",
   "pygments_lexer": "ipython2",
   "version": "2.7.15"
  }
 },
 "nbformat": 4,
 "nbformat_minor": 2
}
